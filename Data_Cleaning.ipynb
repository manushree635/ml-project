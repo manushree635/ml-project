{
 "cells": [
  {
   "cell_type": "markdown",
   "metadata": {},
   "source": [
    "# Data Cleaning and Set up"
   ]
  },
  {
   "cell_type": "markdown",
   "metadata": {},
   "source": [
    "### Importing Libraries"
   ]
  },
  {
   "cell_type": "code",
   "execution_count": 15,
   "metadata": {},
   "outputs": [],
   "source": [
    "import numpy as np\n",
    "import matplotlib.pyplot as plt\n",
    "import pandas as pd\n",
    "import seaborn as sns\n",
    "import random\n",
    "\n",
    "from sklearn.impute import KNNImputer\n",
    "from sklearn.preprocessing import LabelEncoder\n",
    "\n",
    "# Disable warnings\n",
    "import warnings\n",
    "warnings.filterwarnings(\"ignore\")"
   ]
  },
  {
   "cell_type": "markdown",
   "metadata": {},
   "source": [
    "### Data Inspection"
   ]
  },
  {
   "cell_type": "code",
   "execution_count": 2,
   "metadata": {},
   "outputs": [
    {
     "name": "stdout",
     "output_type": "stream",
     "text": [
      "<class 'pandas.core.frame.DataFrame'>\n",
      "RangeIndex: 197428 entries, 0 to 197427\n",
      "Data columns (total 16 columns):\n",
      " #   Column                                        Non-Null Count   Dtype         \n",
      "---  ------                                        --------------   -----         \n",
      " 0   market_id                                     196441 non-null  float64       \n",
      " 1   created_at                                    197428 non-null  datetime64[ns]\n",
      " 2   actual_delivery_time                          197421 non-null  datetime64[ns]\n",
      " 3   store_id                                      197428 non-null  int64         \n",
      " 4   store_primary_category                        192668 non-null  object        \n",
      " 5   order_protocol                                196433 non-null  float64       \n",
      " 6   total_items                                   197428 non-null  int64         \n",
      " 7   subtotal                                      197428 non-null  int64         \n",
      " 8   num_distinct_items                            197428 non-null  int64         \n",
      " 9   min_item_price                                197428 non-null  int64         \n",
      " 10  max_item_price                                197428 non-null  int64         \n",
      " 11  total_onshift_dashers                         181166 non-null  float64       \n",
      " 12  total_busy_dashers                            181166 non-null  float64       \n",
      " 13  total_outstanding_orders                      181166 non-null  float64       \n",
      " 14  estimated_order_place_duration                197428 non-null  int64         \n",
      " 15  estimated_store_to_consumer_driving_duration  196902 non-null  float64       \n",
      "dtypes: datetime64[ns](2), float64(6), int64(7), object(1)\n",
      "memory usage: 24.1+ MB\n"
     ]
    }
   ],
   "source": [
    "base_df = pd.read_csv('historical_data.csv')\n",
    "base_df['created_at'] = pd.to_datetime(base_df['created_at'])\n",
    "base_df['actual_delivery_time'] = pd.to_datetime(base_df['actual_delivery_time'])\n",
    "\n",
    "base_df.info()"
   ]
  },
  {
   "cell_type": "markdown",
   "metadata": {},
   "source": [
    "### Dealing with Null Values"
   ]
  },
  {
   "cell_type": "code",
   "execution_count": 3,
   "metadata": {},
   "outputs": [
    {
     "name": "stdout",
     "output_type": "stream",
     "text": [
      "market_id                                         987\n",
      "created_at                                          0\n",
      "actual_delivery_time                                7\n",
      "store_id                                            0\n",
      "store_primary_category                           4760\n",
      "order_protocol                                    995\n",
      "total_items                                         0\n",
      "subtotal                                            0\n",
      "num_distinct_items                                  0\n",
      "min_item_price                                      0\n",
      "max_item_price                                      0\n",
      "total_onshift_dashers                           16262\n",
      "total_busy_dashers                              16262\n",
      "total_outstanding_orders                        16262\n",
      "estimated_order_place_duration                      0\n",
      "estimated_store_to_consumer_driving_duration      526\n",
      "dtype: int64\n"
     ]
    }
   ],
   "source": [
    "# Null count for each column\n",
    "print(base_df.isnull().sum())"
   ]
  },
  {
   "cell_type": "code",
   "execution_count": 6,
   "metadata": {},
   "outputs": [],
   "source": [
    "# Dropping rows with missing information on target variable\n",
    "df = base_df.dropna(subset=['actual_delivery_time'])\n",
    "\n",
    "# Replace nan with 'other' on store_primary_category\n",
    "df['store_primary_category'] = df['store_primary_category'].fillna('other')\n",
    "\n",
    "# Dropping nan values on order_protocol and market_id\n",
    "df = df.dropna(subset=['order_protocol','market_id'])\n",
    "\n",
    "# Target variable\n",
    "df['target_variable'] = (df['actual_delivery_time'] - df['created_at']).dt.total_seconds()\n",
    "\n",
    "# Day of the week, hour of the day and month of the year from created_at\n",
    "df['day'] = df.created_at.dt.day_of_week\n",
    "df['hour'] = df.created_at.dt.hour"
   ]
  },
  {
   "cell_type": "code",
   "execution_count": 8,
   "metadata": {},
   "outputs": [
    {
     "name": "stdout",
     "output_type": "stream",
     "text": [
      "Length before removing outliers:  195926\n",
      "Length after removing outliers:  174251\n"
     ]
    }
   ],
   "source": [
    "# Drop outliers based on 0.25 and 0.75 quantiles on sub_total, target_variable and max_item_price\n",
    "print('Length before removing outliers: ', len(df))\n",
    "\n",
    "def remove_outliers(df, column):\n",
    "    Q1 = df[column].quantile(0.25)\n",
    "    Q3 = df[column].quantile(0.75)\n",
    "    IQR = Q3 - Q1\n",
    "    return df[(df[column] >= Q1 - 1.5 * IQR) & (df[column] <= Q3 + 1.5 * IQR)]\n",
    "\n",
    "df = remove_outliers(df, 'subtotal')\n",
    "df = remove_outliers(df, 'target_variable')\n",
    "df = remove_outliers(df, 'max_item_price')\n",
    "\n",
    "print('Length after removing outliers: ', len(df))"
   ]
  },
  {
   "cell_type": "code",
   "execution_count": 9,
   "metadata": {},
   "outputs": [],
   "source": [
    "# KNN imputation for missing values on total_onshift_dashers, total_busy_dashers, total_outstanding_orders\n",
    "\n",
    "imputer = KNNImputer(n_neighbors=50)\n",
    "imputation_columns = ['total_onshift_dashers','total_busy_dashers','total_outstanding_orders']\n",
    "reference_columns = ['day','hour','market_id']\n",
    "impute_df = df[imputation_columns+reference_columns]\n",
    "imputed_values = imputer.fit_transform(impute_df)\n",
    "\n",
    "df['total_onshift_dashers'] = imputed_values[:,0]\n",
    "df['total_busy_dashers'] = imputed_values[:,1]\n",
    "df['total_outstanding_orders'] = imputed_values[:,2]"
   ]
  },
  {
   "cell_type": "code",
   "execution_count": 10,
   "metadata": {},
   "outputs": [],
   "source": [
    "# Final touch up on missing values\n",
    "\n",
    "# Dropping rows with missing values on estimated_store_to_consumer_driving_duration\n",
    "df = df.dropna(subset=['estimated_store_to_consumer_driving_duration'])\n",
    "\n",
    "fill_df = df.copy()"
   ]
  },
  {
   "cell_type": "code",
   "execution_count": 11,
   "metadata": {},
   "outputs": [],
   "source": [
    "# Storing fill_df to a csv file\n",
    "fill_df.to_csv('filled_data.csv', index=False)"
   ]
  },
  {
   "cell_type": "code",
   "execution_count": 12,
   "metadata": {},
   "outputs": [],
   "source": [
    "# Restore fill_df from csv file if necessary\n",
    "# fill_df = pd.read_csv('filled_data.csv')"
   ]
  },
  {
   "cell_type": "markdown",
   "metadata": {},
   "source": [
    "### Encoding Categorical Variables"
   ]
  },
  {
   "cell_type": "code",
   "execution_count": 13,
   "metadata": {},
   "outputs": [
    {
     "name": "stdout",
     "output_type": "stream",
     "text": [
      "<class 'pandas.core.frame.DataFrame'>\n",
      "Index: 173774 entries, 0 to 197427\n",
      "Data columns (total 19 columns):\n",
      " #   Column                                        Non-Null Count   Dtype         \n",
      "---  ------                                        --------------   -----         \n",
      " 0   market_id                                     173774 non-null  float64       \n",
      " 1   created_at                                    173774 non-null  datetime64[ns]\n",
      " 2   actual_delivery_time                          173774 non-null  datetime64[ns]\n",
      " 3   store_id                                      173774 non-null  int64         \n",
      " 4   store_primary_category                        173774 non-null  object        \n",
      " 5   order_protocol                                173774 non-null  float64       \n",
      " 6   total_items                                   173774 non-null  int64         \n",
      " 7   subtotal                                      173774 non-null  int64         \n",
      " 8   num_distinct_items                            173774 non-null  int64         \n",
      " 9   min_item_price                                173774 non-null  int64         \n",
      " 10  max_item_price                                173774 non-null  int64         \n",
      " 11  total_onshift_dashers                         173774 non-null  float64       \n",
      " 12  total_busy_dashers                            173774 non-null  float64       \n",
      " 13  total_outstanding_orders                      173774 non-null  float64       \n",
      " 14  estimated_order_place_duration                173774 non-null  int64         \n",
      " 15  estimated_store_to_consumer_driving_duration  173774 non-null  float64       \n",
      " 16  target_variable                               173774 non-null  float64       \n",
      " 17  day                                           173774 non-null  int32         \n",
      " 18  hour                                          173774 non-null  int32         \n",
      "dtypes: datetime64[ns](2), float64(7), int32(2), int64(7), object(1)\n",
      "memory usage: 25.2+ MB\n"
     ]
    }
   ],
   "source": [
    "fill_df.info()"
   ]
  },
  {
   "cell_type": "code",
   "execution_count": 17,
   "metadata": {},
   "outputs": [],
   "source": [
    "cat_df = fill_df.copy()\n",
    "\n",
    "# Dropping columns that are not useful for the model\n",
    "# cat_df.drop(['store_id'], axis=1, inplace=True)\n",
    "\n",
    "# One-hot encoding on market_id and order_protocol\n",
    "cat_df = pd.get_dummies(cat_df, columns=['market_id','order_protocol', 'day'])\n",
    "\n",
    "# Label encoding on store_primary_category\n",
    "cat_df_label = cat_df.copy()\n",
    "\n",
    "label_encoder = LabelEncoder()\n",
    "cat_df_label['store_primary_category'] = label_encoder.fit_transform(cat_df['store_primary_category'])\n",
    "\n",
    "# One hot encoding of store_primary_category\n",
    "cat_df_one = pd.get_dummies(cat_df, columns=['store_primary_category'])\n"
   ]
  },
  {
   "cell_type": "code",
   "execution_count": 18,
   "metadata": {},
   "outputs": [],
   "source": [
    "# Storing cat_df_one to a csv file\n",
    "cat_df_one.to_csv('df_clean_one.csv', index=False)\n",
    "\n",
    "# Storing cat_df_label to a csv file\n",
    "cat_df_label.to_csv('df_clean_label.csv', index=False)"
   ]
  },
  {
   "cell_type": "code",
   "execution_count": null,
   "metadata": {},
   "outputs": [],
   "source": []
  }
 ],
 "metadata": {
  "kernelspec": {
   "display_name": "base",
   "language": "python",
   "name": "python3"
  },
  "language_info": {
   "codemirror_mode": {
    "name": "ipython",
    "version": 3
   },
   "file_extension": ".py",
   "mimetype": "text/x-python",
   "name": "python",
   "nbconvert_exporter": "python",
   "pygments_lexer": "ipython3",
   "version": "3.12.4"
  }
 },
 "nbformat": 4,
 "nbformat_minor": 2
}
